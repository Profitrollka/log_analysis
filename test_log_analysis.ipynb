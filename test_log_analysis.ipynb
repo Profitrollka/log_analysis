{
 "cells": [
  {
   "cell_type": "markdown",
   "id": "6832850a-913b-4b6d-8050-dd9902b31c33",
   "metadata": {},
   "source": [
    "# Импорт модулей"
   ]
  },
  {
   "cell_type": "code",
   "execution_count": 1,
   "id": "50729860-70d1-4b38-bd7f-42a420912444",
   "metadata": {},
   "outputs": [],
   "source": [
    "from pyspark.sql import SparkSession\n",
    "from pyspark.sql import functions as f\n",
    "import re\n",
    "import pandas as pd\n",
    "import matplotlib.pyplot as plt\n",
    "import seaborn as sns\n",
    "import numpy as np\n",
    "%matplotlib inline"
   ]
  },
  {
   "cell_type": "markdown",
   "id": "49b7500b-3388-4c83-891f-be0167ea9e35",
   "metadata": {},
   "source": [
    "# Инициализация Spark"
   ]
  },
  {
   "cell_type": "code",
   "execution_count": 2,
   "id": "419b09ee-e6f0-4bb5-a1c2-a0c6a6ff5c27",
   "metadata": {},
   "outputs": [],
   "source": [
    "spark = SparkSession.builder\\\n",
    "                    .master('local[*]')\\\n",
    "                    .appName('Logs analisys')\\\n",
    "                    .config(\"spark.driver.bindAddress\", \"127.0.0.1\")\\\n",
    "                    .getOrCreate()"
   ]
  },
  {
   "cell_type": "markdown",
   "id": "911ccb0c-9712-499c-99b1-a431e16865e9",
   "metadata": {},
   "source": [
    "# Загрузка данных"
   ]
  },
  {
   "cell_type": "code",
   "execution_count": 3,
   "id": "a9b9ff8a-fb46-4d71-92ca-b3f75c5890e9",
   "metadata": {},
   "outputs": [],
   "source": [
    "log_data = spark.read.option('header', True)\\\n",
    "                .csv('/Users/alenakapustan/Git/log_analysis/data/weblog.csv')"
   ]
  },
  {
   "cell_type": "markdown",
   "id": "35c92c52-c6a5-4e89-b1b9-eefcc0dcd825",
   "metadata": {},
   "source": [
    "## Исслудуем загруженные данные"
   ]
  },
  {
   "cell_type": "code",
   "execution_count": 4,
   "id": "333866df-c104-4076-abca-299a5578bda8",
   "metadata": {},
   "outputs": [
    {
     "name": "stdout",
     "output_type": "stream",
     "text": [
      "root\n",
      " |-- IP: string (nullable = true)\n",
      " |-- Time: string (nullable = true)\n",
      " |-- URL: string (nullable = true)\n",
      " |-- Staus: string (nullable = true)\n",
      "\n"
     ]
    }
   ],
   "source": [
    "log_data.printSchema()"
   ]
  },
  {
   "cell_type": "code",
   "execution_count": 5,
   "id": "9da8008e-10b8-445a-a93b-931ac45d842f",
   "metadata": {},
   "outputs": [
    {
     "name": "stdout",
     "output_type": "stream",
     "text": [
      "+----------+--------------------+--------------------+-----+\n",
      "|        IP|                Time|                 URL|Staus|\n",
      "+----------+--------------------+--------------------+-----+\n",
      "|10.128.2.1|[29/Nov/2017:06:5...|GET /login.php HT...|  200|\n",
      "|10.128.2.1|[29/Nov/2017:06:5...|POST /process.php...|  302|\n",
      "|10.128.2.1|[29/Nov/2017:06:5...|GET /home.php HTT...|  200|\n",
      "|10.131.2.1|[29/Nov/2017:06:5...|GET /js/vendor/mo...|  200|\n",
      "|10.130.2.1|[29/Nov/2017:06:5...|GET /bootstrap-3....|  200|\n",
      "|10.130.2.1|[29/Nov/2017:06:5...|GET /profile.php?...|  200|\n",
      "|10.128.2.1|[29/Nov/2017:06:5...|GET /js/jquery.mi...|  200|\n",
      "|10.131.2.1|[29/Nov/2017:06:5...|GET /js/chart.min...|  200|\n",
      "|10.131.2.1|[29/Nov/2017:06:5...|GET /edit.php?nam...|  200|\n",
      "|10.131.2.1|[29/Nov/2017:06:5...|GET /logout.php H...|  302|\n",
      "|10.131.2.1|[29/Nov/2017:06:5...|GET /login.php HT...|  200|\n",
      "|10.130.2.1|[29/Nov/2017:07:0...|GET /login.php HT...|  200|\n",
      "|10.130.2.1|[29/Nov/2017:07:0...|GET /login.php HT...|  200|\n",
      "|10.130.2.1|[29/Nov/2017:13:3...|      GET / HTTP/1.1|  302|\n",
      "|10.130.2.1|[29/Nov/2017:13:3...|GET /login.php HT...|  200|\n",
      "|10.129.2.1|[29/Nov/2017:13:3...|POST /process.php...|  302|\n",
      "|10.131.0.1|[29/Nov/2017:13:3...|GET /home.php HTT...|  200|\n",
      "|10.131.0.1|[29/Nov/2017:13:3...|GET /contestprobl...|  200|\n",
      "|10.130.2.1|[29/Nov/2017:13:3...|      GET / HTTP/1.1|  302|\n",
      "|10.131.2.1|[29/Nov/2017:13:3...|GET /login.php HT...|  200|\n",
      "+----------+--------------------+--------------------+-----+\n",
      "only showing top 20 rows\n",
      "\n"
     ]
    }
   ],
   "source": [
    "log_data.show()"
   ]
  },
  {
   "cell_type": "code",
   "execution_count": 6,
   "id": "61fce3bd-a757-4072-948b-05bbc7a088ac",
   "metadata": {},
   "outputs": [
    {
     "name": "stdout",
     "output_type": "stream",
     "text": [
      "+---------+-----------+----------+------------+\n",
      "|IP_isNull|Time_isNull|URL_isNull|Staus_isNull|\n",
      "+---------+-----------+----------+------------+\n",
      "|        0|          0|         0|           0|\n",
      "+---------+-----------+----------+------------+\n",
      "\n"
     ]
    }
   ],
   "source": [
    "log_data.select([f.count(f.when(f.isnan(col) | f.col(col).isNull(), col))\n",
    "                 .alias('{}_isNull'.format(col)) for col in log_data.columns])\\\n",
    "        .show()"
   ]
  },
  {
   "cell_type": "code",
   "execution_count": 7,
   "id": "37075d4d-2e74-4916-a941-ca4ec85bf58b",
   "metadata": {},
   "outputs": [
    {
     "data": {
      "text/plain": [
       "16007"
      ]
     },
     "execution_count": 7,
     "metadata": {},
     "output_type": "execute_result"
    }
   ],
   "source": [
    "log_data.count()"
   ]
  },
  {
   "cell_type": "markdown",
   "id": "d772abcf-1774-4980-ba29-193faf9e0b5f",
   "metadata": {},
   "source": [
    "# Обработка данных"
   ]
  },
  {
   "cell_type": "markdown",
   "id": "76261a79-b815-495a-b74d-66c782050ca7",
   "metadata": {},
   "source": [
    "## Формируем паттерны для извлечения данных с помощью регулярных выражений"
   ]
  },
  {
   "cell_type": "code",
   "execution_count": 8,
   "id": "1faed5d4-2b59-4282-bcb4-8e473276323a",
   "metadata": {},
   "outputs": [],
   "source": [
    "date_pattern = r'\\d{2}/\\w{3}/\\d{4}'\n",
    "time_pattern = r'\\d{2}:\\d{2}:\\d{2}'\n",
    "status_code_pattern = r'[GETPOSUDL]{3,6}'\n",
    "protocol_pattern = r'HTTPS?/\\d+\\.\\d+'\n",
    "endpoint_pattern = r'/\\b\\D+[./]+[^\\s][\\w\\d]+'\n",
    "domain_pattern = r'\\w+'\n",
    "status_pattern = r'\\d{3}'"
   ]
  },
  {
   "cell_type": "markdown",
   "id": "8829c7fe-0781-4d5a-88cd-0cd796de3afb",
   "metadata": {},
   "source": [
    "## Трансформируем первоначальный датафрейм"
   ]
  },
  {
   "cell_type": "code",
   "execution_count": 9,
   "id": "3b288b09-eb8c-4d9d-9e06-fbd2d210456e",
   "metadata": {},
   "outputs": [],
   "source": [
    "log_data_new = log_data.select('IP'\n",
    "                           , f.when((f.regexp_extract('Time', date_pattern, 0)) != \"\"\n",
    "                                     , f.regexp_extract('Time', date_pattern, 0))\n",
    "                               .otherwise(None)\n",
    "                               .alias('Date')\n",
    "                           , f.when((f.regexp_extract('Time', time_pattern, 0)) != \"\"\n",
    "                                    , f.regexp_extract('Time', time_pattern, 0))\n",
    "                               .otherwise(None)\n",
    "                               .alias('Time')\n",
    "                           , f.when((f.regexp_extract('URL', status_code_pattern, 0)) != \"\"\n",
    "                                    , f.regexp_extract('URL', status_code_pattern, 0))\n",
    "                               .otherwise(None)\n",
    "                               .alias('Method')\n",
    "                           , f.when((f.regexp_extract('URL', endpoint_pattern, 0)) != \"\"\n",
    "                                    , f.regexp_extract('URL', endpoint_pattern, 0))\n",
    "                               .otherwise(None)\n",
    "                               .alias('Endpoint')\n",
    "                           , f.when((f.regexp_extract('URL', protocol_pattern, 0)) != \"\"\n",
    "                                    , f.regexp_extract('URL', protocol_pattern, 0))\n",
    "                               .otherwise(None)\n",
    "                               .alias('Protocol')\n",
    "                           , f.when((f.regexp_extract('Staus', status_pattern, 0)) != \"\"\n",
    "                                    , f.regexp_extract('Staus', status_pattern, 0))\n",
    "                               .otherwise(None)\n",
    "                               .alias('Status')\n",
    "                          )\\\n",
    "                        .withColumn('Date', f.from_unixtime(f.unix_timestamp('Date', 'dd/MMM/yyyy'), 'yyyy-MM-dd')).alias('date')"
   ]
  },
  {
   "cell_type": "markdown",
   "id": "4c91dfe9-eecb-46a0-86ab-7056c39fc1ef",
   "metadata": {},
   "source": [
    "Смотрим что получилось"
   ]
  },
  {
   "cell_type": "code",
   "execution_count": 10,
   "id": "609e0638-f0e8-4202-897c-730fd43b4be2",
   "metadata": {},
   "outputs": [
    {
     "name": "stdout",
     "output_type": "stream",
     "text": [
      "+----------+----------+--------+------+--------------------+--------+------+\n",
      "|        IP|      Date|    Time|Method|            Endpoint|Protocol|Status|\n",
      "+----------+----------+--------+------+--------------------+--------+------+\n",
      "|10.128.2.1|2017-11-29|17:06:58|   GET|          /login.php|HTTP/1.1|   200|\n",
      "|10.128.2.1|2017-11-29|17:06:59|  POST|        /process.php|HTTP/1.1|   302|\n",
      "|10.128.2.1|2017-11-29|17:06:59|   GET|           /home.php|HTTP/1.1|   200|\n",
      "|10.131.2.1|2017-11-29|17:06:59|   GET|/js/vendor/moment...|HTTP/1.1|   200|\n",
      "|10.130.2.1|2017-11-29|17:06:59|   GET|    /js/bootstrap.js|HTTP/1.1|   200|\n",
      "+----------+----------+--------+------+--------------------+--------+------+\n",
      "only showing top 5 rows\n",
      "\n"
     ]
    }
   ],
   "source": [
    "log_data_new.show(5)"
   ]
  },
  {
   "cell_type": "code",
   "execution_count": 11,
   "id": "38ce1742-e147-4656-8b8f-eb0548bdcd58",
   "metadata": {},
   "outputs": [
    {
     "data": {
      "text/plain": [
       "16007"
      ]
     },
     "execution_count": 11,
     "metadata": {},
     "output_type": "execute_result"
    }
   ],
   "source": [
    "log_data_new.count()"
   ]
  },
  {
   "cell_type": "code",
   "execution_count": 12,
   "id": "1894f021-42ac-425c-8f4c-9ac7df65b239",
   "metadata": {},
   "outputs": [
    {
     "name": "stdout",
     "output_type": "stream",
     "text": [
      "+------+-----+\n",
      "|Method|count|\n",
      "+------+-----+\n",
      "|  POST|  682|\n",
      "|  null|  218|\n",
      "|   TTP|    9|\n",
      "|   GET|15098|\n",
      "+------+-----+\n",
      "\n"
     ]
    }
   ],
   "source": [
    "log_data_new.groupBy('Method').count().show()"
   ]
  },
  {
   "cell_type": "code",
   "execution_count": 13,
   "id": "7d8689e3-25a2-46b6-85ab-a722a65fbd07",
   "metadata": {},
   "outputs": [
    {
     "name": "stdout",
     "output_type": "stream",
     "text": [
      "+---------+-----------+-----------+-------------+---------------+---------------+-------------+\n",
      "|IP_isNull|Date_isNull|Time_isNull|Method_isNull|Endpoint_isNull|Protocol_isNull|Status_isNull|\n",
      "+---------+-----------+-----------+-------------+---------------+---------------+-------------+\n",
      "|        0|        218|        218|          218|           1080|            218|          183|\n",
      "+---------+-----------+-----------+-------------+---------------+---------------+-------------+\n",
      "\n"
     ]
    }
   ],
   "source": [
    "log_data_new.select([f.count(f.when(f.isnan(col) | f.col(col).isNull(), col))\n",
    "                     .alias('{}_isNull'.format(col)) for col in log_data_new.columns])\\\n",
    "            .show()"
   ]
  },
  {
   "cell_type": "markdown",
   "id": "c2fe1f80-3789-46e7-bde1-bfadc5c69a9e",
   "metadata": {},
   "source": [
    "### Анализирум данные, которые не соответствуют шаблонам (т.е те, которые были заполнены Null)"
   ]
  },
  {
   "cell_type": "markdown",
   "id": "412d17ac-6f8e-43cf-bf49-ec2194567c5d",
   "metadata": {},
   "source": [
    "Колонка Time - видим, что отсеились данные, которые были заполнены не корректно"
   ]
  },
  {
   "cell_type": "code",
   "execution_count": 14,
   "id": "2983fed5-369b-4648-b8de-3588acfa0d58",
   "metadata": {},
   "outputs": [
    {
     "name": "stdout",
     "output_type": "stream",
     "text": [
      "+--------------------+-----+\n",
      "|                Time|count|\n",
      "+--------------------+-----+\n",
      "|              cannot|  167|\n",
      "|                 Jan|   16|\n",
      "|                 Feb|   12|\n",
      "|                 Dec|    7|\n",
      "|                 the|    5|\n",
      "|                line|    5|\n",
      "|        main.cpp:51:|    3|\n",
      "|C:WINDOWSSystem32...|    2|\n",
      "|        main.cpp:64:|    1|\n",
      "+--------------------+-----+\n",
      "\n"
     ]
    }
   ],
   "source": [
    "log_data.filter(~log_data['Time'].rlike(date_pattern))\\\n",
    "        .groupBy('Time')\\\n",
    "        .count().alias('count')\\\n",
    "        .orderBy(f.col('count').desc())\\\n",
    "        .show()"
   ]
  },
  {
   "cell_type": "markdown",
   "id": "efcf73fa-1daa-4c2e-a0cb-d7940b67fedf",
   "metadata": {},
   "source": [
    "Колонка Staus - видим, что отсеились данные, которые были заполнены не корректно"
   ]
  },
  {
   "cell_type": "code",
   "execution_count": 15,
   "id": "fb016fa5-7ee9-4b71-938c-44bee2cbf4dc",
   "metadata": {},
   "outputs": [
    {
     "name": "stdout",
     "output_type": "stream",
     "text": [
      "+------------+-----+\n",
      "|       Staus|count|\n",
      "+------------+-----+\n",
      "|          No|  167|\n",
      "|      dumped|    5|\n",
      "|   Assertion|    4|\n",
      "|     Aborted|    4|\n",
      "|       found|    2|\n",
      "|Segmentation|    1|\n",
      "+------------+-----+\n",
      "\n"
     ]
    }
   ],
   "source": [
    "log_data.filter(~log_data['Staus'].rlike(status_pattern))\\\n",
    "        .groupBy('Staus')\\\n",
    "        .count().alias('count')\\\n",
    "        .orderBy(f.col('count').desc())\\\n",
    "        .show()"
   ]
  },
  {
   "cell_type": "markdown",
   "id": "6939a0c8-7bc7-4933-a5f3-9c7108d7c61c",
   "metadata": {},
   "source": [
    "Колонка URL, новая колонка - Method"
   ]
  },
  {
   "cell_type": "code",
   "execution_count": 16,
   "id": "df6471ba-f1be-40e7-acc9-203e9c0c220d",
   "metadata": {},
   "outputs": [],
   "source": [
    "method = log_data.filter(~log_data['URL'].rlike(status_code_pattern))\\\n",
    "                            .groupBy('URL')\\\n",
    "                            .count().alias('count')\\\n",
    "                            .orderBy(f.col('count').desc())"
   ]
  },
  {
   "cell_type": "code",
   "execution_count": 17,
   "id": "4b1db903-eb67-44e3-8661-af4933dcb6c8",
   "metadata": {},
   "outputs": [
    {
     "data": {
      "text/plain": [
       "22"
      ]
     },
     "execution_count": 17,
     "metadata": {},
     "output_type": "execute_result"
    }
   ],
   "source": [
    "method.count()"
   ]
  },
  {
   "cell_type": "code",
   "execution_count": 18,
   "id": "cd8b4074-2b6f-4325-afc9-bca15d457477",
   "metadata": {},
   "outputs": [
    {
     "name": "stdout",
     "output_type": "stream",
     "text": [
      "+------------+-----+\n",
      "|         URL|count|\n",
      "+------------+-----+\n",
      "|'error.txt':|   64|\n",
      "|      '*.o':|   62|\n",
      "|    'a.out':|   41|\n",
      "|     48:37.1|    5|\n",
      "|     52:06.9|    5|\n",
      "|     command|    5|\n",
      "|     02:49.8|    5|\n",
      "|     24:12.8|    5|\n",
      "|     12:58.7|    5|\n",
      "|     29:09.2|    5|\n",
      "|     main():|    4|\n",
      "|         not|    2|\n",
      "|        1192|    1|\n",
      "|         451|    1|\n",
      "|     40:28.7|    1|\n",
      "|     51:47.0|    1|\n",
      "|     00:53.4|    1|\n",
      "|     44:47.7|    1|\n",
      "|        1243|    1|\n",
      "|         848|    1|\n",
      "|     20:28.3|    1|\n",
      "|        1226|    1|\n",
      "+------------+-----+\n",
      "\n"
     ]
    }
   ],
   "source": [
    "method.show(22)"
   ]
  },
  {
   "cell_type": "markdown",
   "id": "5b73d0b8-0146-4de4-920b-26f094a459d3",
   "metadata": {},
   "source": [
    "Колонка URL, новая колонка - Endpoint"
   ]
  },
  {
   "cell_type": "code",
   "execution_count": 19,
   "id": "2ba4a4f8-9900-463a-9779-9812124c3d60",
   "metadata": {},
   "outputs": [],
   "source": [
    "end_point = log_data.filter(~log_data['URL'].rlike(endpoint_pattern))\\\n",
    "                    .groupBy('URL')\\\n",
    "                    .count().alias('count')\\\n",
    "                    .orderBy(f.col('count').desc())"
   ]
  },
  {
   "cell_type": "code",
   "execution_count": 20,
   "id": "9889b653-37eb-4f1b-9744-857d0e29fd73",
   "metadata": {},
   "outputs": [
    {
     "data": {
      "text/plain": [
       "24"
      ]
     },
     "execution_count": 20,
     "metadata": {},
     "output_type": "execute_result"
    }
   ],
   "source": [
    "end_point.count()"
   ]
  },
  {
   "cell_type": "markdown",
   "id": "54568a5f-ac5c-4331-9d63-04ce084428c5",
   "metadata": {},
   "source": [
    "Колонка URL, новая колонка - Protocol"
   ]
  },
  {
   "cell_type": "code",
   "execution_count": 21,
   "id": "eff7b2d5-6d37-4ebe-9425-863f86eed2e1",
   "metadata": {},
   "outputs": [],
   "source": [
    "protocol = log_data.filter(~log_data['URL'].rlike(protocol_pattern))\\\n",
    "                            .groupBy('URL')\\\n",
    "                            .count().alias('count')\\\n",
    "                            .orderBy(f.col('count').desc())"
   ]
  },
  {
   "cell_type": "code",
   "execution_count": 22,
   "id": "4f5b8b84-3ce6-4357-97ae-3a99d8c3f80a",
   "metadata": {},
   "outputs": [
    {
     "data": {
      "text/plain": [
       "22"
      ]
     },
     "execution_count": 22,
     "metadata": {},
     "output_type": "execute_result"
    }
   ],
   "source": [
    "protocol.count()"
   ]
  },
  {
   "cell_type": "code",
   "execution_count": 23,
   "id": "d53d1175-9be3-403c-b574-a5e9ecbea895",
   "metadata": {},
   "outputs": [
    {
     "name": "stdout",
     "output_type": "stream",
     "text": [
      "+---+-----+\n",
      "|URL|count|\n",
      "+---+-----+\n",
      "+---+-----+\n",
      "\n"
     ]
    }
   ],
   "source": [
    "# проверяем какие из значений колонки Method отсутствуют в колонке Protocol\n",
    "protocol.exceptAll(method).show()"
   ]
  },
  {
   "cell_type": "code",
   "execution_count": 24,
   "id": "2ae62d6f-2ec3-42c1-a405-b05a88de5038",
   "metadata": {},
   "outputs": [
    {
     "name": "stdout",
     "output_type": "stream",
     "text": [
      "+--------------+-----+\n",
      "|           URL|count|\n",
      "+--------------+-----+\n",
      "|GET / HTTP/1.0|    1|\n",
      "|GET / HTTP/1.1|  861|\n",
      "+--------------+-----+\n",
      "\n"
     ]
    }
   ],
   "source": [
    "# проверяем какие из значений колонки Method отсутствуют в колонке Endpoint\n",
    "end_point.exceptAll(method).show()"
   ]
  },
  {
   "cell_type": "markdown",
   "id": "94a1a2fe-c145-4855-8ab8-d7fc5fdd532a",
   "metadata": {},
   "source": [
    "Исключаем записи с нулевыми значениями из колонок Date, Time, Method, Protocol, Status, Endpoint"
   ]
  },
  {
   "cell_type": "code",
   "execution_count": 25,
   "id": "8b85d2f6-6111-41f7-a021-a1fc4bd2e324",
   "metadata": {},
   "outputs": [],
   "source": [
    "log_data_filt = log_data_new.filter(f.col('Date').isNotNull()\n",
    "                                    | f.col('Time').isNotNull()\n",
    "                                    | f.col('Method').isNotNull()\n",
    "                                    | f.col('Protocol').isNotNull())\\\n",
    "                            .filter(f.col('Status').isNotNull())\\\n",
    "                            .filter(f.col('Endpoint').isNotNull())\\\n",
    "                            .filter(f.col('Method') != 'TTP')"
   ]
  },
  {
   "cell_type": "markdown",
   "id": "801ea7b8-e7d3-4428-9470-32ac685347a7",
   "metadata": {},
   "source": [
    "Считаем колонки с нулевыми значениями после удаления"
   ]
  },
  {
   "cell_type": "code",
   "execution_count": 26,
   "id": "a2cae4ae-45cc-4a82-a132-4baebacb3450",
   "metadata": {},
   "outputs": [
    {
     "name": "stdout",
     "output_type": "stream",
     "text": [
      "+---------+-----------+-----------+-------------+---------------+---------------+-------------+\n",
      "|IP_isNull|Date_isNull|Time_isNull|Method_isNull|Endpoint_isNull|Protocol_isNull|Status_isNull|\n",
      "+---------+-----------+-----------+-------------+---------------+---------------+-------------+\n",
      "|        0|          0|          0|            0|              0|              0|            0|\n",
      "+---------+-----------+-----------+-------------+---------------+---------------+-------------+\n",
      "\n"
     ]
    }
   ],
   "source": [
    "log_data_filt.select([f.count(f.when(f.isnan(col) | f.col(col).isNull(), col)).alias('{}_isNull'.format(col)) for col in log_data_filt.columns]).show()"
   ]
  },
  {
   "cell_type": "code",
   "execution_count": 27,
   "id": "d82e46b3-df77-4c1a-a2e2-207b2c35ff22",
   "metadata": {},
   "outputs": [
    {
     "data": {
      "text/plain": [
       "14918"
      ]
     },
     "execution_count": 27,
     "metadata": {},
     "output_type": "execute_result"
    }
   ],
   "source": [
    "log_data_filt.count()"
   ]
  },
  {
   "cell_type": "markdown",
   "id": "c9c73e41-c123-4e8e-9b1b-47de22a22af7",
   "metadata": {},
   "source": [
    "# Анализ данных"
   ]
  },
  {
   "cell_type": "markdown",
   "id": "32274345-62e0-4ea4-844b-f45e3f8beba3",
   "metadata": {},
   "source": [
    "## Общий анализ статусов запросов"
   ]
  },
  {
   "cell_type": "code",
   "execution_count": 28,
   "id": "69c230b6-332c-412d-899d-f60666c1a5d5",
   "metadata": {},
   "outputs": [
    {
     "name": "stdout",
     "output_type": "stream",
     "text": [
      "Общее количество уникальных статусов HTTP: 5\n"
     ]
    }
   ],
   "source": [
    "status_df = (log_data_filt\n",
    "                     .groupBy('Status')\n",
    "                     .count()\n",
    "                     .sort('Status')\n",
    "                     .cache())\n",
    "print('Общее количество уникальных статусов HTTP:', status_df.count())  "
   ]
  },
  {
   "cell_type": "code",
   "execution_count": 29,
   "id": "c48c5c48-ccc9-405c-affd-331ccc16d104",
   "metadata": {},
   "outputs": [
    {
     "data": {
      "text/html": [
       "<div>\n",
       "<style scoped>\n",
       "    .dataframe tbody tr th:only-of-type {\n",
       "        vertical-align: middle;\n",
       "    }\n",
       "\n",
       "    .dataframe tbody tr th {\n",
       "        vertical-align: top;\n",
       "    }\n",
       "\n",
       "    .dataframe thead th {\n",
       "        text-align: right;\n",
       "    }\n",
       "</style>\n",
       "<table border=\"1\" class=\"dataframe\">\n",
       "  <thead>\n",
       "    <tr style=\"text-align: right;\">\n",
       "      <th></th>\n",
       "      <th>Status</th>\n",
       "      <th>count</th>\n",
       "    </tr>\n",
       "  </thead>\n",
       "  <tbody>\n",
       "    <tr>\n",
       "      <th>0</th>\n",
       "      <td>200</td>\n",
       "      <td>11205</td>\n",
       "    </tr>\n",
       "    <tr>\n",
       "      <th>2</th>\n",
       "      <td>302</td>\n",
       "      <td>2752</td>\n",
       "    </tr>\n",
       "    <tr>\n",
       "      <th>3</th>\n",
       "      <td>304</td>\n",
       "      <td>658</td>\n",
       "    </tr>\n",
       "    <tr>\n",
       "      <th>4</th>\n",
       "      <td>404</td>\n",
       "      <td>251</td>\n",
       "    </tr>\n",
       "    <tr>\n",
       "      <th>1</th>\n",
       "      <td>206</td>\n",
       "      <td>52</td>\n",
       "    </tr>\n",
       "  </tbody>\n",
       "</table>\n",
       "</div>"
      ],
      "text/plain": [
       "  Status  count\n",
       "0    200  11205\n",
       "2    302   2752\n",
       "3    304    658\n",
       "4    404    251\n",
       "1    206     52"
      ]
     },
     "execution_count": 29,
     "metadata": {},
     "output_type": "execute_result"
    }
   ],
   "source": [
    "status_pd_df = (status_df\n",
    "                         .toPandas()\n",
    "                         .sort_values(by=['count'],\n",
    "                                      ascending=False))\n",
    "status_pd_df"
   ]
  },
  {
   "cell_type": "code",
   "execution_count": 30,
   "id": "953409c9-0470-4c7c-9364-9e6d7f833476",
   "metadata": {},
   "outputs": [
    {
     "data": {
      "text/plain": [
       "<seaborn.axisgrid.FacetGrid at 0x7fa740444220>"
      ]
     },
     "execution_count": 30,
     "metadata": {},
     "output_type": "execute_result"
    },
    {
     "data": {
      "image/png": "[encoded data removed]",
      "text/plain": [
       "<Figure size 360x360 with 1 Axes>"
      ]
     },
     "metadata": {
      "needs_background": "light"
     },
     "output_type": "display_data"
    }
   ],
   "source": [
    "sns.catplot(x='Status', y='count', data=status_pd_df,\n",
    "            kind='bar', order=status_pd_df['Status'])"
   ]
  },
  {
   "cell_type": "markdown",
   "id": "d2f3e0ca-6932-4520-a32b-8b0a32168e0d",
   "metadata": {},
   "source": [
    "## Анализ наиболее часто встречающихся запросов"
   ]
  },
  {
   "cell_type": "code",
   "execution_count": 31,
   "id": "7913204c-3c21-4e5f-be4c-d592580866e8",
   "metadata": {},
   "outputs": [
    {
     "name": "stdout",
     "output_type": "stream",
     "text": [
      "+--------------------+-----+\n",
      "|            Endpoint|count|\n",
      "+--------------------+-----+\n",
      "|          /login.php| 3422|\n",
      "|           /home.php| 2650|\n",
      "|/js/vendor/modernizr| 1417|\n",
      "| /contestproblem.php|  556|\n",
      "|  /css/normalize.css|  408|\n",
      "|/css/bootstrap.mi...|  404|\n",
      "|/css/font-awesome...|  399|\n",
      "|      /css/style.css|  395|\n",
      "|       /css/main.css|  394|\n",
      "|   /js/vendor/jquery|  387|\n",
      "+--------------------+-----+\n",
      "\n"
     ]
    }
   ],
   "source": [
    "endpoint_sum_df =(log_data_filt\n",
    "               .groupBy('Endpoint')\n",
    "               .count()\n",
    "               .sort('count', ascending=False).limit(10))\n",
    "\n",
    "endpoint_sum_df.show()"
   ]
  },
  {
   "cell_type": "code",
   "execution_count": 32,
   "id": "e64cc751-5ce6-472e-ab01-4dec9fb3bb68",
   "metadata": {},
   "outputs": [],
   "source": [
    "endpoint_sum_pd_df = endpoint_sum_df.toPandas()"
   ]
  },
  {
   "cell_type": "code",
   "execution_count": 33,
   "id": "d752d339-7fc4-4a09-90ea-0f75d11237b6",
   "metadata": {},
   "outputs": [
    {
     "data": {
      "text/plain": [
       "<seaborn.axisgrid.FacetGrid at 0x7fa740719940>"
      ]
     },
     "execution_count": 33,
     "metadata": {},
     "output_type": "execute_result"
    },
    {
     "data": {
      "image/png": "[encoded data removed]",
      "text/plain": [
       "<Figure size 360x360 with 1 Axes>"
      ]
     },
     "metadata": {
      "needs_background": "light"
     },
     "output_type": "display_data"
    }
   ],
   "source": [
    "sns.catplot(x='count', y='Endpoint', data=endpoint_sum_pd_df,\n",
    "            kind='bar', order=endpoint_sum_pd_df['Endpoint'])"
   ]
  },
  {
   "cell_type": "markdown",
   "id": "dbe11c4f-f781-4d61-824b-06b6075da464",
   "metadata": {},
   "source": [
    "## Наиболее активные пользоатели"
   ]
  },
  {
   "cell_type": "code",
   "execution_count": 34,
   "id": "5b711307-4aeb-4f15-883a-a64b5d428848",
   "metadata": {},
   "outputs": [
    {
     "name": "stdout",
     "output_type": "stream",
     "text": [
      "+----------+-----+\n",
      "|        IP|count|\n",
      "+----------+-----+\n",
      "|10.128.2.1| 4050|\n",
      "|10.131.0.1| 3977|\n",
      "|10.130.2.1| 3885|\n",
      "|10.129.2.1| 1518|\n",
      "|10.131.2.1| 1488|\n",
      "+----------+-----+\n",
      "\n"
     ]
    }
   ],
   "source": [
    "users_df = log_data_filt.groupBy('IP')\\\n",
    "                .count()\\\n",
    "                .orderBy(f.col('count').desc())\\\n",
    "                .sort('count', ascending=False).limit(10)\n",
    "users_df.show()"
   ]
  },
  {
   "cell_type": "code",
   "execution_count": 35,
   "id": "7b21c840-1b33-411f-9335-42b683a3b98c",
   "metadata": {},
   "outputs": [],
   "source": [
    "users_pd_df = users_df.toPandas()"
   ]
  },
  {
   "cell_type": "code",
   "execution_count": 36,
   "id": "fb8a06ae-97ba-4771-a5af-5f492b991abc",
   "metadata": {},
   "outputs": [
    {
     "data": {
      "text/plain": [
       "<seaborn.axisgrid.FacetGrid at 0x7fa7409225e0>"
      ]
     },
     "execution_count": 36,
     "metadata": {},
     "output_type": "execute_result"
    },
    {
     "data": {
      "image/png": "[encoded data removed]",
      "text/plain": [
       "<Figure size 360x360 with 1 Axes>"
      ]
     },
     "metadata": {
      "needs_background": "light"
     },
     "output_type": "display_data"
    }
   ],
   "source": [
    "sns.catplot(x='IP', y='count', data=users_pd_df,\n",
    "            kind='bar', order=users_pd_df['IP'])"
   ]
  },
  {
   "cell_type": "markdown",
   "id": "411f7e55-02e4-4bf5-8c64-b1acaeabaab9",
   "metadata": {},
   "source": [
    "## Нагрузка (по количеству запросов)"
   ]
  },
  {
   "cell_type": "code",
   "execution_count": 37,
   "id": "1a977ca8-c741-4269-9eab-c15eca042f4d",
   "metadata": {},
   "outputs": [
    {
     "name": "stdout",
     "output_type": "stream",
     "text": [
      "+----+-----+\n",
      "|Year|count|\n",
      "+----+-----+\n",
      "|2017| 8399|\n",
      "|2018| 6519|\n",
      "+----+-----+\n",
      "\n"
     ]
    }
   ],
   "source": [
    "log_data_filt.withColumn('Year', f.year('Date'))\\\n",
    "                .groupBy('Year')\\\n",
    "                .count()\\\n",
    "                .orderBy(f.col('count').desc())\\\n",
    "                .show()"
   ]
  },
  {
   "cell_type": "markdown",
   "id": "1e0cc9f4-8fbb-44a9-aad1-0ff557157be5",
   "metadata": {},
   "source": [
    "### Отбираем для анализа 2017 год"
   ]
  },
  {
   "cell_type": "code",
   "execution_count": 38,
   "id": "365cc057-b3bf-490e-8446-9fbb8257e567",
   "metadata": {},
   "outputs": [],
   "source": [
    "log_data_filt_2017 = log_data_filt.filter(f.year('Date') == 2017)"
   ]
  },
  {
   "cell_type": "code",
   "execution_count": 39,
   "id": "a2d3f292-a033-481d-91fb-36f2c89470d6",
   "metadata": {},
   "outputs": [
    {
     "name": "stdout",
     "output_type": "stream",
     "text": [
      "+----------+-----+\n",
      "|      Date|count|\n",
      "+----------+-----+\n",
      "|2017-11-30| 2836|\n",
      "|2017-11-29|  550|\n",
      "|2017-11-17|  444|\n",
      "|2017-12-01|  434|\n",
      "|2017-11-23|  356|\n",
      "+----------+-----+\n",
      "only showing top 5 rows\n",
      "\n"
     ]
    }
   ],
   "source": [
    "queries_by_dates_df = log_data_filt_2017.groupBy('Date')\\\n",
    "                .count()\\\n",
    "                .orderBy(f.col('count').desc())\n",
    "queries_by_dates_df.show(5)"
   ]
  },
  {
   "cell_type": "code",
   "execution_count": 40,
   "id": "2a397495-3a4f-4a2a-b0a5-43cafb0d3634",
   "metadata": {},
   "outputs": [],
   "source": [
    "queries_by_dates_pd_df = queries_by_dates_df.toPandas()"
   ]
  },
  {
   "cell_type": "code",
   "execution_count": 41,
   "id": "b333cf61-08ce-4014-befc-79282f3dd668",
   "metadata": {},
   "outputs": [
    {
     "data": {
      "text/plain": [
       "<seaborn.axisgrid.FacetGrid at 0x7fa740aa29d0>"
      ]
     },
     "execution_count": 41,
     "metadata": {},
     "output_type": "execute_result"
    },
    {
     "data": {
      "image/png": "[encoded data removed]",
      "text/plain": [
       "<Figure size 360x360 with 1 Axes>"
      ]
     },
     "metadata": {
      "needs_background": "light"
     },
     "output_type": "display_data"
    }
   ],
   "source": [
    "sns.catplot(x='count', y='Date', data=queries_by_dates_pd_df,\n",
    "            kind='bar', order=queries_by_dates_pd_df['Date'])"
   ]
  },
  {
   "cell_type": "markdown",
   "id": "4bc04310-c23b-412d-b2d2-8893e42fbd7f",
   "metadata": {},
   "source": [
    "#### Нагрузка по месяцам в 2017 году"
   ]
  },
  {
   "cell_type": "code",
   "execution_count": 42,
   "id": "cc818640-9f50-40f2-b23f-4bbf2b6cfb9b",
   "metadata": {},
   "outputs": [
    {
     "name": "stdout",
     "output_type": "stream",
     "text": [
      "+-----+-----+\n",
      "|Month|count|\n",
      "+-----+-----+\n",
      "|   11| 6646|\n",
      "|   12| 1753|\n",
      "+-----+-----+\n",
      "\n"
     ]
    }
   ],
   "source": [
    "log_data_filt_2017.withColumn('Month', f.month('Date'))\\\n",
    "                .groupBy('Month')\\\n",
    "                .count()\\\n",
    "                .orderBy(f.col('count').desc())\\\n",
    "                .show()"
   ]
  },
  {
   "cell_type": "markdown",
   "id": "90cb4e83-79a1-47f7-a665-c5c31ca1d8c8",
   "metadata": {},
   "source": [
    "#### Нагрузка по дням в ноябре 2017 года"
   ]
  },
  {
   "cell_type": "code",
   "execution_count": 43,
   "id": "b8e0a6a8-6841-44da-8b4a-430e0d425849",
   "metadata": {},
   "outputs": [
    {
     "name": "stdout",
     "output_type": "stream",
     "text": [
      "+---+-----+\n",
      "|Day|count|\n",
      "+---+-----+\n",
      "| 30| 2836|\n",
      "| 29|  550|\n",
      "| 17|  444|\n",
      "| 23|  356|\n",
      "| 16|  352|\n",
      "| 12|  308|\n",
      "| 11|  278|\n",
      "| 25|  239|\n",
      "|  9|  190|\n",
      "| 13|  188|\n",
      "| 26|  169|\n",
      "| 19|  149|\n",
      "| 14|  114|\n",
      "| 18|   79|\n",
      "|  8|   74|\n",
      "| 24|   74|\n",
      "| 20|   53|\n",
      "| 22|   53|\n",
      "| 15|   52|\n",
      "| 10|   50|\n",
      "+---+-----+\n",
      "only showing top 20 rows\n",
      "\n"
     ]
    }
   ],
   "source": [
    "log_data_filt_2017.filter(f.month('Date') == 11)\\\n",
    "                    .withColumn('Day', f.dayofmonth('Date'))\\\n",
    "                    .groupBy('Day')\\\n",
    "                    .count()\\\n",
    "                    .orderBy(f.col('count').desc())\\\n",
    "                    .show()"
   ]
  },
  {
   "cell_type": "markdown",
   "id": "79b9d71b-86b0-4ee7-826d-45e87723a0bd",
   "metadata": {},
   "source": [
    "#### Нагрузка по дням в декабре 2017 года"
   ]
  },
  {
   "cell_type": "code",
   "execution_count": 44,
   "id": "bc8edf39-3c08-4263-bfe9-b2474f2f516b",
   "metadata": {},
   "outputs": [
    {
     "name": "stdout",
     "output_type": "stream",
     "text": [
      "+---+-----+\n",
      "|Day|count|\n",
      "+---+-----+\n",
      "|  1|  434|\n",
      "| 18|  174|\n",
      "|  2|  148|\n",
      "| 14|  139|\n",
      "| 16|  131|\n",
      "| 13|  118|\n",
      "|  3|   98|\n",
      "| 20|   94|\n",
      "| 15|   93|\n",
      "| 17|   81|\n",
      "| 12|   76|\n",
      "| 21|   71|\n",
      "| 19|   45|\n",
      "| 23|   41|\n",
      "| 22|   10|\n",
      "+---+-----+\n",
      "\n"
     ]
    }
   ],
   "source": [
    "log_data_filt_2017.filter(f.month('Date') == 12)\\\n",
    "                .withColumn('Day', f.dayofmonth('Date'))\\\n",
    "                .groupBy('Day')\\\n",
    "                .count()\\\n",
    "                .orderBy(f.col('count').desc())\\\n",
    "                .show()"
   ]
  },
  {
   "cell_type": "markdown",
   "id": "98440c94-837e-4e7b-b726-35ad9600f952",
   "metadata": {},
   "source": [
    "#### Нагрузка по временным интервалам"
   ]
  },
  {
   "cell_type": "code",
   "execution_count": 45,
   "id": "747ec514-bc15-4acb-88e2-c713379e638f",
   "metadata": {},
   "outputs": [
    {
     "data": {
      "text/plain": [
       "0"
      ]
     },
     "execution_count": 45,
     "metadata": {},
     "output_type": "execute_result"
    }
   ],
   "source": [
    "morning = log_data_filt_2017.filter((f.col('Time') >= '06:00:00') & (f.col('Time') < '12:00:00')).count()\n",
    "morning"
   ]
  },
  {
   "cell_type": "code",
   "execution_count": 46,
   "id": "8faddf03-520f-4ac4-93e2-8735542f50be",
   "metadata": {},
   "outputs": [
    {
     "data": {
      "text/plain": [
       "8399"
      ]
     },
     "execution_count": 46,
     "metadata": {},
     "output_type": "execute_result"
    }
   ],
   "source": [
    "day = log_data_filt_2017.filter((f.col('Time') >= '12:00:00') & (f.col('Time') < '18:00:00'))\n",
    "day.count()"
   ]
  },
  {
   "cell_type": "markdown",
   "id": "8db42995-018d-4193-8efa-195cdbd80494",
   "metadata": {},
   "source": [
    "Смотрим в разбивке по часам"
   ]
  },
  {
   "cell_type": "code",
   "execution_count": 47,
   "id": "9439b3ac-f08f-4224-9a05-99f37c24b530",
   "metadata": {},
   "outputs": [
    {
     "name": "stdout",
     "output_type": "stream",
     "text": [
      "+----+-----+\n",
      "|Hour|count|\n",
      "+----+-----+\n",
      "|  17| 8399|\n",
      "+----+-----+\n",
      "\n"
     ]
    }
   ],
   "source": [
    "day.withColumn('Hour', f.hour('Time'))\\\n",
    "    .groupBy('Hour')\\\n",
    "    .count()\\\n",
    "    .orderBy(f.col('count').desc())\\\n",
    "    .show()"
   ]
  },
  {
   "cell_type": "code",
   "execution_count": 48,
   "id": "0a5432c9-6df3-4d13-b7db-4ac71618895f",
   "metadata": {},
   "outputs": [
    {
     "data": {
      "text/plain": [
       "0"
      ]
     },
     "execution_count": 48,
     "metadata": {},
     "output_type": "execute_result"
    }
   ],
   "source": [
    "evening = log_data_filt_2017.filter((f.col('Time') >= '18:00:00') & (f.col('Time') < '24:00:00'))\n",
    "evening.count()"
   ]
  },
  {
   "cell_type": "code",
   "execution_count": 49,
   "id": "0a4b2206-7fa9-4fc8-8d0c-6e3997c08115",
   "metadata": {},
   "outputs": [
    {
     "data": {
      "text/plain": [
       "0"
      ]
     },
     "execution_count": 49,
     "metadata": {},
     "output_type": "execute_result"
    }
   ],
   "source": [
    "night = log_data_filt_2017.filter((f.col('Time') >= '24:00:00') & (f.col('Time') < '06:00:00')).count()\n",
    "night"
   ]
  },
  {
   "cell_type": "markdown",
   "id": "09e82532-24cc-49d3-921c-3f8bddb31b1b",
   "metadata": {},
   "source": [
    "#### Статусы ответов на запросы в 2017 году"
   ]
  },
  {
   "cell_type": "code",
   "execution_count": 50,
   "id": "9a47f4f6-55a3-4063-9f92-fb58dacf181e",
   "metadata": {},
   "outputs": [
    {
     "name": "stdout",
     "output_type": "stream",
     "text": [
      "+------+-----+\n",
      "|Status|count|\n",
      "+------+-----+\n",
      "|   200| 6928|\n",
      "|   304|  619|\n",
      "|   302|  600|\n",
      "|   404|  206|\n",
      "|   206|   46|\n",
      "+------+-----+\n",
      "\n"
     ]
    }
   ],
   "source": [
    "req_status_df_2017 = log_data_filt_2017.groupBy('Status').count().sort('count', ascending=False)\n",
    "req_status_df_2017.show()"
   ]
  },
  {
   "cell_type": "code",
   "execution_count": 51,
   "id": "b742f34c-f8a4-421d-996a-bf6f0218ea6d",
   "metadata": {},
   "outputs": [
    {
     "data": {
      "text/plain": [
       "<seaborn.axisgrid.FacetGrid at 0x7fa740d1d100>"
      ]
     },
     "execution_count": 51,
     "metadata": {},
     "output_type": "execute_result"
    },
    {
     "data": {
      "image/png": "[encoded data removed]",
      "text/plain": [
       "<Figure size 360x360 with 1 Axes>"
      ]
     },
     "metadata": {
      "needs_background": "light"
     },
     "output_type": "display_data"
    }
   ],
   "source": [
    "req_status_pd_df_2017 = req_status_df_2017.toPandas()\n",
    "sns.catplot(x='Status', y='count', data=req_status_pd_df_2017,\n",
    "            kind='bar', order=req_status_pd_df_2017['Status'])"
   ]
  },
  {
   "cell_type": "markdown",
   "id": "eebac22e-1fa4-4313-9f0a-e6cb6a182fc9",
   "metadata": {},
   "source": [
    "#### Методы запросов в 2017 году"
   ]
  },
  {
   "cell_type": "code",
   "execution_count": 52,
   "id": "16d56e15-4f0d-4a93-88a2-33e97c305918",
   "metadata": {},
   "outputs": [
    {
     "name": "stdout",
     "output_type": "stream",
     "text": [
      "+------+-----+\n",
      "|Method|count|\n",
      "+------+-----+\n",
      "|   GET| 7809|\n",
      "|  POST|  590|\n",
      "+------+-----+\n",
      "\n"
     ]
    }
   ],
   "source": [
    "log_data_filt_2017.groupBy('Method').count().sort('count', ascending=False).show()"
   ]
  },
  {
   "cell_type": "markdown",
   "id": "9c4a539f-ae6d-4e3a-be72-7422c61e8f50",
   "metadata": {},
   "source": [
    "### Отбираем для анализа 2018 год"
   ]
  },
  {
   "cell_type": "code",
   "execution_count": 53,
   "id": "cdb2d5d2-f255-4b7a-809e-2b0f9caaac9e",
   "metadata": {},
   "outputs": [],
   "source": [
    "log_data_filt_2018 = log_data_filt.filter(f.year('Date') == 2018)"
   ]
  },
  {
   "cell_type": "code",
   "execution_count": 54,
   "id": "cb738330-b0e0-4951-b920-ed4e956e5e07",
   "metadata": {},
   "outputs": [
    {
     "name": "stdout",
     "output_type": "stream",
     "text": [
      "+----------+-----+\n",
      "|      Date|count|\n",
      "+----------+-----+\n",
      "|2018-01-29| 5076|\n",
      "|2018-02-22|  224|\n",
      "|2018-02-25|  136|\n",
      "|2018-03-02|  135|\n",
      "|2018-02-23|  127|\n",
      "+----------+-----+\n",
      "only showing top 5 rows\n",
      "\n"
     ]
    }
   ],
   "source": [
    "queries_by_dates_df = log_data_filt_2018.groupBy('Date')\\\n",
    "                .count()\\\n",
    "                .orderBy(f.col('count').desc())\n",
    "queries_by_dates_df.show(5)"
   ]
  },
  {
   "cell_type": "code",
   "execution_count": 55,
   "id": "36916e16-04f0-49a8-b13c-ff27a15f32f5",
   "metadata": {},
   "outputs": [],
   "source": [
    "queries_by_dates_pd_df = queries_by_dates_df.toPandas()"
   ]
  },
  {
   "cell_type": "code",
   "execution_count": 56,
   "id": "a2316818-a537-473f-94b7-236bf481774e",
   "metadata": {},
   "outputs": [
    {
     "data": {
      "text/plain": [
       "<seaborn.axisgrid.FacetGrid at 0x7fa740d23760>"
      ]
     },
     "execution_count": 56,
     "metadata": {},
     "output_type": "execute_result"
    },
    {
     "data": {
      "image/png": "[encoded data removed]",
      "text/plain": [
       "<Figure size 360x360 with 1 Axes>"
      ]
     },
     "metadata": {
      "needs_background": "light"
     },
     "output_type": "display_data"
    }
   ],
   "source": [
    "sns.catplot(x='count', y='Date', data=queries_by_dates_pd_df,\n",
    "            kind='point', order=queries_by_dates_pd_df['Date'])"
   ]
  },
  {
   "cell_type": "markdown",
   "id": "270dce09-8a44-445c-8973-0cdda3a1411d",
   "metadata": {},
   "source": [
    "#### Нагрузка по месяцам в 2018 году"
   ]
  },
  {
   "cell_type": "code",
   "execution_count": 57,
   "id": "358434c9-99dd-42cb-834b-0f64cd5d26e0",
   "metadata": {},
   "outputs": [
    {
     "name": "stdout",
     "output_type": "stream",
     "text": [
      "+-----+-----+\n",
      "|Month|count|\n",
      "+-----+-----+\n",
      "|    1| 5239|\n",
      "|    2| 1118|\n",
      "|    3|  162|\n",
      "+-----+-----+\n",
      "\n"
     ]
    }
   ],
   "source": [
    "log_data_filt_2018.withColumn('Month', f.month('Date'))\\\n",
    "                .groupBy('Month')\\\n",
    "                .count()\\\n",
    "                .orderBy(f.col('count').desc())\\\n",
    "                .show()"
   ]
  },
  {
   "cell_type": "markdown",
   "id": "0c7838de-2294-4ddb-9f76-3b2ebec52a06",
   "metadata": {},
   "source": [
    "#### Нагрузка по дням в январе 2018 года"
   ]
  },
  {
   "cell_type": "code",
   "execution_count": 58,
   "id": "60643314-8d61-473f-9c28-65645ca89691",
   "metadata": {},
   "outputs": [
    {
     "name": "stdout",
     "output_type": "stream",
     "text": [
      "+---+-----+\n",
      "|Day|count|\n",
      "+---+-----+\n",
      "| 29| 5076|\n",
      "| 16|   74|\n",
      "| 18|   62|\n",
      "| 17|   27|\n",
      "+---+-----+\n",
      "\n"
     ]
    }
   ],
   "source": [
    "log_data_filt_2018.filter(f.month('Date') == 1)\\\n",
    "                .withColumn('Day', f.dayofmonth('Date'))\\\n",
    "                .groupBy('Day')\\\n",
    "                .count()\\\n",
    "                .orderBy(f.col('count').desc())\\\n",
    "                .show()"
   ]
  },
  {
   "cell_type": "markdown",
   "id": "bc3588da-aed6-4d51-9620-ccdaeda1a8f3",
   "metadata": {},
   "source": [
    "#### Нагрузка по дням в феврале 2018 года"
   ]
  },
  {
   "cell_type": "code",
   "execution_count": 59,
   "id": "efcc5266-175a-48a9-b698-e1c97f36dcf8",
   "metadata": {},
   "outputs": [
    {
     "name": "stdout",
     "output_type": "stream",
     "text": [
      "+---+-----+\n",
      "|Day|count|\n",
      "+---+-----+\n",
      "| 22|  224|\n",
      "| 25|  136|\n",
      "| 23|  127|\n",
      "| 28|  121|\n",
      "| 21|  103|\n",
      "| 26|   88|\n",
      "| 27|   82|\n",
      "| 17|   58|\n",
      "| 20|   53|\n",
      "| 18|   34|\n",
      "| 16|   32|\n",
      "| 19|   29|\n",
      "| 15|   17|\n",
      "| 24|   14|\n",
      "+---+-----+\n",
      "\n"
     ]
    }
   ],
   "source": [
    "log_data_filt_2018.filter(f.month('Date') == 2)\\\n",
    "                .withColumn('Day', f.dayofmonth('Date'))\\\n",
    "                .groupBy('Day')\\\n",
    "                .count()\\\n",
    "                .orderBy(f.col('count').desc())\\\n",
    "                .show()"
   ]
  },
  {
   "cell_type": "markdown",
   "id": "6782626e-67b6-49fa-add7-b3e351ef60e4",
   "metadata": {},
   "source": [
    "#### Нагрузка по дням в марте 2018 года"
   ]
  },
  {
   "cell_type": "code",
   "execution_count": 60,
   "id": "d93992b9-b239-40ab-b929-708a0ed8aeda",
   "metadata": {},
   "outputs": [
    {
     "name": "stdout",
     "output_type": "stream",
     "text": [
      "+---+-----+\n",
      "|Day|count|\n",
      "+---+-----+\n",
      "|  2|  135|\n",
      "|  1|   27|\n",
      "+---+-----+\n",
      "\n"
     ]
    }
   ],
   "source": [
    "log_data_filt_2018.filter(f.month('Date') == 3)\\\n",
    "                .withColumn('Day', f.dayofmonth('Date'))\\\n",
    "                .groupBy('Day')\\\n",
    "                .count()\\\n",
    "                .orderBy(f.col('count').desc())\\\n",
    "                .show()"
   ]
  },
  {
   "cell_type": "markdown",
   "id": "b3cfe253-a9f6-4d19-89ed-2dee88f57c3d",
   "metadata": {},
   "source": [
    "#### Нагрузка по временным интервалам"
   ]
  },
  {
   "cell_type": "code",
   "execution_count": 61,
   "id": "2f733e30-c376-49fe-a343-21aad4ce8ba7",
   "metadata": {},
   "outputs": [
    {
     "data": {
      "text/plain": [
       "0"
      ]
     },
     "execution_count": 61,
     "metadata": {},
     "output_type": "execute_result"
    }
   ],
   "source": [
    "morning = log_data_filt_2018.filter((f.col('Time') >= '06:00:00') & (f.col('Time') < '12:00:00')).count()\n",
    "morning"
   ]
  },
  {
   "cell_type": "code",
   "execution_count": 62,
   "id": "e4c135b6-08e9-4c0d-851b-e4ac37333433",
   "metadata": {},
   "outputs": [
    {
     "data": {
      "text/plain": [
       "0"
      ]
     },
     "execution_count": 62,
     "metadata": {},
     "output_type": "execute_result"
    }
   ],
   "source": [
    "day = log_data_filt_2018.filter((f.col('Time') >= '12:00:00') & (f.col('Time') < '18:00:00'))\n",
    "day.count()"
   ]
  },
  {
   "cell_type": "code",
   "execution_count": 63,
   "id": "e0dda3f4-f70b-4caf-b19f-74674617d55b",
   "metadata": {},
   "outputs": [
    {
     "data": {
      "text/plain": [
       "6519"
      ]
     },
     "execution_count": 63,
     "metadata": {},
     "output_type": "execute_result"
    }
   ],
   "source": [
    "evening = log_data_filt_2018.filter((f.col('Time') >= '18:00:00') & (f.col('Time') < '24:00:00'))\n",
    "evening.count()"
   ]
  },
  {
   "cell_type": "markdown",
   "id": "aed72578-00b7-41b8-bb85-1f8c167965cd",
   "metadata": {},
   "source": [
    "Смотрим в разбивке по часам"
   ]
  },
  {
   "cell_type": "code",
   "execution_count": 64,
   "id": "ae26ab03-6606-4b0e-8e57-bf6248a8a9da",
   "metadata": {},
   "outputs": [
    {
     "name": "stdout",
     "output_type": "stream",
     "text": [
      "+----+-----+\n",
      "|Hour|count|\n",
      "+----+-----+\n",
      "|  18| 6519|\n",
      "+----+-----+\n",
      "\n"
     ]
    }
   ],
   "source": [
    "evening.withColumn('Hour', f.hour('Time'))\\\n",
    "    .groupBy('Hour')\\\n",
    "    .count().alias('count')\\\n",
    "    .orderBy(f.col('count').desc())\\\n",
    "    .show()"
   ]
  },
  {
   "cell_type": "code",
   "execution_count": 65,
   "id": "5407f71f-280e-40d1-917d-292fa9913e25",
   "metadata": {},
   "outputs": [
    {
     "data": {
      "text/plain": [
       "0"
      ]
     },
     "execution_count": 65,
     "metadata": {},
     "output_type": "execute_result"
    }
   ],
   "source": [
    "night = log_data_filt.filter((f.col('Time') >= '24:00:00') & (f.col('Time') < '06:00:00')).count()\n",
    "night"
   ]
  },
  {
   "cell_type": "markdown",
   "id": "5c67bcf5-2885-4ab4-8328-cc44c2264c28",
   "metadata": {},
   "source": [
    "#### Статусы ответов на запросы в 2018 году"
   ]
  },
  {
   "cell_type": "code",
   "execution_count": 66,
   "id": "82518dba-92b7-4834-9a7f-95be83a3b02a",
   "metadata": {},
   "outputs": [
    {
     "name": "stdout",
     "output_type": "stream",
     "text": [
      "+------+-----+\n",
      "|Status|count|\n",
      "+------+-----+\n",
      "|   200| 4277|\n",
      "|   302| 2152|\n",
      "|   404|   45|\n",
      "|   304|   39|\n",
      "|   206|    6|\n",
      "+------+-----+\n",
      "\n"
     ]
    }
   ],
   "source": [
    "req_status_df_2018 = log_data_filt_2018.groupBy('Status')\\\n",
    "                                            .count()\\\n",
    "                                            .sort('count', ascending=False)\n",
    "req_status_df_2018.show()"
   ]
  },
  {
   "cell_type": "code",
   "execution_count": 67,
   "id": "32646c82-3bfa-4a09-9f75-b0e5103d552f",
   "metadata": {},
   "outputs": [
    {
     "data": {
      "text/plain": [
       "<seaborn.axisgrid.FacetGrid at 0x7fa740927880>"
      ]
     },
     "execution_count": 67,
     "metadata": {},
     "output_type": "execute_result"
    },
    {
     "data": {
      "image/png": "[encoded data removed]",
      "text/plain": [
       "<Figure size 360x360 with 1 Axes>"
      ]
     },
     "metadata": {
      "needs_background": "light"
     },
     "output_type": "display_data"
    }
   ],
   "source": [
    "req_status_pd_df_2018 = req_status_df_2018.toPandas()\n",
    "sns.catplot(x='Status', y='count', data=req_status_pd_df_2018,\n",
    "            kind='point', order=req_status_pd_df_2018['Status'])"
   ]
  },
  {
   "cell_type": "code",
   "execution_count": 68,
   "id": "aa510dea-e928-4e86-8a41-fc5c77843c3f",
   "metadata": {},
   "outputs": [],
   "source": [
    "log_data_filt_2018_st = log_data_filt_2018.filter(f.col('Status') != '200')"
   ]
  },
  {
   "cell_type": "code",
   "execution_count": 69,
   "id": "69d28804-b0c0-4e7b-8de5-d4016599cdb4",
   "metadata": {},
   "outputs": [],
   "source": [
    "log_data_filt_2018_st_df = log_data_filt_2018_st.groupBy('Date')\\\n",
    "                                                .count()\\\n",
    "                                                .orderBy(f.col('count').desc())\n",
    "log_data_filt_2018_st_pd_df = log_data_filt_2018_st_df.toPandas()"
   ]
  },
  {
   "cell_type": "code",
   "execution_count": 70,
   "id": "708bdbc1-1c5e-4bdf-a563-cf9403a640b0",
   "metadata": {},
   "outputs": [
    {
     "data": {
      "text/plain": [
       "<seaborn.axisgrid.FacetGrid at 0x7fa74110e850>"
      ]
     },
     "execution_count": 70,
     "metadata": {},
     "output_type": "execute_result"
    },
    {
     "data": {
      "image/png": "[encoded data removed]",
      "text/plain": [
       "<Figure size 360x360 with 1 Axes>"
      ]
     },
     "metadata": {
      "needs_background": "light"
     },
     "output_type": "display_data"
    }
   ],
   "source": [
    "sns.catplot(x='count', y='Date', data=log_data_filt_2018_st_pd_df,\n",
    "            kind='point', order=log_data_filt_2018_st_pd_df['Date'])"
   ]
  },
  {
   "cell_type": "code",
   "execution_count": 71,
   "id": "3645896e-7904-43d2-8aa9-48b37f4e392b",
   "metadata": {},
   "outputs": [
    {
     "name": "stdout",
     "output_type": "stream",
     "text": [
      "+-----+-----+\n",
      "|Month|count|\n",
      "+-----+-----+\n",
      "|    1| 2043|\n",
      "|    2|  188|\n",
      "|    3|   11|\n",
      "+-----+-----+\n",
      "\n"
     ]
    }
   ],
   "source": [
    "log_data_filt_2018_st.withColumn('Month', f.month('Date'))\\\n",
    "                .groupBy('Month')\\\n",
    "                .count()\\\n",
    "                .orderBy(f.col('count').desc())\\\n",
    "                .show()"
   ]
  },
  {
   "cell_type": "code",
   "execution_count": 72,
   "id": "86e554f4-df20-41d1-9c28-5bc7e5551f7a",
   "metadata": {},
   "outputs": [],
   "source": [
    "#### Методы запросов в 2018 году"
   ]
  },
  {
   "cell_type": "code",
   "execution_count": 73,
   "id": "da6a68f3-06f7-4242-92d3-7964ce84213b",
   "metadata": {},
   "outputs": [
    {
     "name": "stdout",
     "output_type": "stream",
     "text": [
      "+------+-----+\n",
      "|Method|count|\n",
      "+------+-----+\n",
      "|  POST|   92|\n",
      "|   GET| 6427|\n",
      "+------+-----+\n",
      "\n"
     ]
    }
   ],
   "source": [
    "log_data_filt_2018.groupBy('Method').count().show()"
   ]
  },
  {
   "cell_type": "code",
   "execution_count": 74,
   "id": "77662b59-0363-4051-9357-0dfc88894825",
   "metadata": {},
   "outputs": [],
   "source": [
    "spark.stop()"
   ]
  },
  {
   "cell_type": "markdown",
   "id": "3a8f56bc-d61d-4b85-a53a-c5ff05f0bfdb",
   "metadata": {},
   "source": [
    "# Выводы"
   ]
  },
  {
   "cell_type": "code",
   "execution_count": null,
   "id": "9af6fce2-8a16-4cbd-8aaf-f1400f7d3ff1",
   "metadata": {},
   "outputs": [],
   "source": [
    "Есть падение пользовательской активности на 12,6% в 2018 году (6519 запросов) по сравнению с 2017 годом (8399 запросов).\n",
    "В 2017 году пик активности 79,13% пришелся на ноябрь (6646), половина запросов сделана 29 (550) и 30 (2836) ноября.\n",
    "В 2018 году пик активности 80,37% пришелся на январь (5239), большая часть запросов сделана 29 января (5076), в феврале наблюдается значительное падение\n",
    "пользовательской активности на 77,97% (1118), в марте совершено всего 162 запроса.\n",
    "Все запросы в 2017 году были совершены во временной интервал с 17.00 до 18.00, в 2018 году с 18.00 до 19.00.\n",
    "Большая часть запросов, а именно 82,47%, в 2017 году отработаны со статусом 200 - Успешный запрос (6928), в 2018 году 4277 запросов обработаны со статусом\n",
    "200, что составляет 65,61%. При этом наблюдается снижение успешной обработки запросов, что могло повлиять снижение пользовательской активности.\n",
    "В основном в 2017 году ползователи направляли GET запросы (7809) - 92,98%, POST (590) - 7,02%, аналогично в 2018 году GET запросы (6427) - 98,49%, POST (92)\n",
    "- 1,41%\n",
    "Больше всего запросов 27,15% было отправлено с IP-адреса 10.128.2.1, на втором месте 10.131.0.1 - 26,7%, на третьем 10.130.2.1 - 26,04%\n",
    "Наиболее популярные ресурсы login.php - 22,94%, home.php - 17,77%"
   ]
  }
 ],
 "metadata": {
  "kernelspec": {
   "display_name": "Python 3",
   "language": "python",
   "name": "python3"
  },
  "language_info": {
   "codemirror_mode": {
    "name": "ipython",
    "version": 3
   },
   "file_extension": ".py",
   "mimetype": "text/x-python",
   "name": "python",
   "nbconvert_exporter": "python",
   "pygments_lexer": "ipython3",
   "version": "3.8.8"
  }
 },
 "nbformat": 4,
 "nbformat_minor": 5
}
